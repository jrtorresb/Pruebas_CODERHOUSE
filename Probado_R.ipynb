{
 "cells": [
  {
   "cell_type": "code",
   "execution_count": 1,
   "id": "a5a4d984",
   "metadata": {},
   "outputs": [],
   "source": [
    "x<-seq(0,100)"
   ]
  },
  {
   "cell_type": "code",
   "execution_count": 2,
   "id": "d916318c",
   "metadata": {},
   "outputs": [
    {
     "name": "stdout",
     "output_type": "stream",
     "text": [
      "  [1]   0   1   2   3   4   5   6   7   8   9  10  11  12  13  14  15  16  17\n",
      " [19]  18  19  20  21  22  23  24  25  26  27  28  29  30  31  32  33  34  35\n",
      " [37]  36  37  38  39  40  41  42  43  44  45  46  47  48  49  50  51  52  53\n",
      " [55]  54  55  56  57  58  59  60  61  62  63  64  65  66  67  68  69  70  71\n",
      " [73]  72  73  74  75  76  77  78  79  80  81  82  83  84  85  86  87  88  89\n",
      " [91]  90  91  92  93  94  95  96  97  98  99 100\n"
     ]
    }
   ],
   "source": [
    "print(x)"
   ]
  },
  {
   "cell_type": "code",
   "execution_count": 3,
   "id": "0ebc54ab",
   "metadata": {},
   "outputs": [
    {
     "data": {
      "text/plain": [
       "   Min. 1st Qu.  Median    Mean 3rd Qu.    Max. \n",
       "      0      25      50      50      75     100 "
      ]
     },
     "metadata": {},
     "output_type": "display_data"
    }
   ],
   "source": [
    "summary(x)"
   ]
  },
  {
   "cell_type": "code",
   "execution_count": 4,
   "id": "11826289",
   "metadata": {},
   "outputs": [
    {
     "data": {
      "text/html": [
       "50"
      ],
      "text/latex": [
       "50"
      ],
      "text/markdown": [
       "50"
      ],
      "text/plain": [
       "[1] 50"
      ]
     },
     "metadata": {},
     "output_type": "display_data"
    }
   ],
   "source": [
    "mean(x)"
   ]
  },
  {
   "cell_type": "code",
   "execution_count": null,
   "id": "97743372",
   "metadata": {},
   "outputs": [],
   "source": []
  }
 ],
 "metadata": {
  "kernelspec": {
   "display_name": "R",
   "language": "R",
   "name": "ir"
  },
  "language_info": {
   "codemirror_mode": "r",
   "file_extension": ".r",
   "mimetype": "text/x-r-source",
   "name": "R",
   "pygments_lexer": "r",
   "version": "3.6.1"
  }
 },
 "nbformat": 4,
 "nbformat_minor": 5
}
